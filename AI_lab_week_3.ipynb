{
  "nbformat": 4,
  "nbformat_minor": 0,
  "metadata": {
    "colab": {
      "name": "AI lab week 3",
      "provenance": [],
      "authorship_tag": "ABX9TyOvJAtuWFYir7WRiLWYujEw",
      "include_colab_link": true
    },
    "kernelspec": {
      "name": "python3",
      "display_name": "Python 3"
    },
    "language_info": {
      "name": "python"
    }
  },
  "cells": [
    {
      "cell_type": "markdown",
      "metadata": {
        "id": "view-in-github",
        "colab_type": "text"
      },
      "source": [
        "<a href=\"https://colab.research.google.com/github/MDYeaminIslam/Codeforces-Solutions-Python/blob/Master/AI_lab_week_3.ipynb\" target=\"_parent\"><img src=\"https://colab.research.google.com/assets/colab-badge.svg\" alt=\"Open In Colab\"/></a>"
      ]
    },
    {
      "cell_type": "markdown",
      "source": [
        "# ***Function***"
      ],
      "metadata": {
        "id": "fbWiFF-T4Gxa"
      }
    },
    {
      "cell_type": "code",
      "source": [
        "def my_function():\n",
        "\n",
        "  print(\"Hello\")\n",
        "\n",
        "my_function()"
      ],
      "metadata": {
        "colab": {
          "base_uri": "https://localhost:8080/"
        },
        "id": "069es4Eo4J56",
        "outputId": "aba998a2-80dd-4a16-c1c5-7dbcc9ba3394"
      },
      "execution_count": null,
      "outputs": [
        {
          "output_type": "stream",
          "name": "stdout",
          "text": [
            "Hello\n"
          ]
        }
      ]
    },
    {
      "cell_type": "markdown",
      "source": [
        "# ***List***"
      ],
      "metadata": {
        "id": "0qBzZkgQ5MdM"
      }
    },
    {
      "cell_type": "code",
      "source": [
        "lst0=[1,2,3,32,2.23,43.23,\"python\",[2,32,3]]\n",
        "print(lst0)"
      ],
      "metadata": {
        "colab": {
          "base_uri": "https://localhost:8080/"
        },
        "id": "FJbvO5fJ4J-S",
        "outputId": "294fe8f3-308b-4f59-bfb7-2255fa7cf294"
      },
      "execution_count": null,
      "outputs": [
        {
          "output_type": "stream",
          "name": "stdout",
          "text": [
            "[1, 2, 3, 32, 2.23, 43.23, 'python', [2, 32, 3]]\n"
          ]
        }
      ]
    },
    {
      "cell_type": "code",
      "source": [
        "array=(1,3,5,7)\n",
        "array"
      ],
      "metadata": {
        "colab": {
          "base_uri": "https://localhost:8080/"
        },
        "id": "P7dDyYwo4KAa",
        "outputId": "eb185805-5bf6-4f97-cdd1-d4d287f12c90"
      },
      "execution_count": null,
      "outputs": [
        {
          "output_type": "execute_result",
          "data": {
            "text/plain": [
              "(1, 3, 5, 7)"
            ]
          },
          "metadata": {},
          "execution_count": 3
        }
      ]
    },
    {
      "cell_type": "code",
      "source": [
        "lst2 = list(array)\n",
        "print(lst2)\n",
        "type(lst2)"
      ],
      "metadata": {
        "colab": {
          "base_uri": "https://localhost:8080/"
        },
        "id": "UTptrDob4KCi",
        "outputId": "b54e9d2f-ee19-4a8e-90f2-ee0d5534a459"
      },
      "execution_count": null,
      "outputs": [
        {
          "output_type": "stream",
          "name": "stdout",
          "text": [
            "[1, 3, 5, 7]\n"
          ]
        },
        {
          "output_type": "execute_result",
          "data": {
            "text/plain": [
              "list"
            ]
          },
          "metadata": {},
          "execution_count": 6
        }
      ]
    },
    {
      "cell_type": "code",
      "source": [
        "for i in lst0:\n",
        "    print(i, end=' ')\n",
        "print('')"
      ],
      "metadata": {
        "colab": {
          "base_uri": "https://localhost:8080/"
        },
        "id": "i7Gej7kR4KEq",
        "outputId": "7f0652f9-6955-4bd3-ba34-ca79d110d4fc"
      },
      "execution_count": null,
      "outputs": [
        {
          "output_type": "stream",
          "name": "stdout",
          "text": [
            "1 2 3 32 2.23 43.23 python [2, 32, 3] \n"
          ]
        }
      ]
    },
    {
      "cell_type": "code",
      "source": [
        "lst0=[1,2,3,32,2.23,43.23,\"python\",[2,32,3]]\n",
        "print(lst0[2])\n",
        "print(lst0[6])\n",
        "print(lst0[-2])\n",
        "print(lst0[7][1])"
      ],
      "metadata": {
        "colab": {
          "base_uri": "https://localhost:8080/"
        },
        "id": "nmT86t_p4KHK",
        "outputId": "34369127-da3f-4cb2-f0a2-dc195820ca17"
      },
      "execution_count": null,
      "outputs": [
        {
          "output_type": "stream",
          "name": "stdout",
          "text": [
            "3\n",
            "python\n",
            "python\n",
            "32\n"
          ]
        }
      ]
    },
    {
      "cell_type": "code",
      "source": [
        "#list slicing\n",
        "\n",
        "lst0=[1,2,3,32,2.23,43.23,\"python\",[2,32,3]]\n",
        "\n",
        "print(lst0[2:7])\n",
        "print(lst0[2:])\n",
        "print(lst0[:5])\n",
        "print(lst0[:])"
      ],
      "metadata": {
        "colab": {
          "base_uri": "https://localhost:8080/"
        },
        "id": "7Zoydf9X4KJJ",
        "outputId": "9b1513c3-5119-4c61-a47c-ad7c5546299f"
      },
      "execution_count": null,
      "outputs": [
        {
          "output_type": "stream",
          "name": "stdout",
          "text": [
            "[3, 32, 2.23, 43.23, 'python']\n",
            "[3, 32, 2.23, 43.23, 'python', [2, 32, 3]]\n",
            "[1, 2, 3, 32, 2.23]\n",
            "[1, 2, 3, 32, 2.23, 43.23, 'python', [2, 32, 3]]\n"
          ]
        }
      ]
    },
    {
      "cell_type": "markdown",
      "source": [
        "# ***List Operation***"
      ],
      "metadata": {
        "id": "aEHY8v-E_Bai"
      }
    },
    {
      "cell_type": "code",
      "source": [
        "#List operations\n",
        "\n",
        "lst0=[1,2,3,32, 2, 2.23,43.23,\"python\",[2,32,3]]\n",
        "\n",
        "print(len(lst0))                #len( ) gives the length of the list\n",
        "\n",
        "lst0.append([12,2,12,2])        #append( ) inserts an element to the end of the list\n",
        "print(lst0)\n",
        "\n",
        "lst0.insert(6,\"pandas\")         #insert( ) insertes an element on a given index\n",
        "print(lst0)\n",
        "\n",
        "lst0.remove(3)                  #remove( ) removes first occurence of an element\n",
        "print(lst0)\n",
        "\n",
        "print(lst0.count(2))        #count( ) reuturns the number of occurence of an element\n",
        "\n",
        "lst0.pop(2)                     #pop element from list\n",
        "print(lst0)\n",
        "\n",
        "print(lst0.reverse())           #reverse( ) makes a reverse list\n",
        "\n",
        "lst1=lst0.copy()                #copy( ) makes a copy of list\n",
        "print(lst1)\n",
        "\n",
        "lst0.clear()                    #clear( ) makes the list empty\n",
        "print(lst0)"
      ],
      "metadata": {
        "colab": {
          "base_uri": "https://localhost:8080/"
        },
        "id": "TBC12MnD4KLK",
        "outputId": "ee80dce0-1c6e-41c9-cf5a-ae746dac7c69"
      },
      "execution_count": null,
      "outputs": [
        {
          "output_type": "stream",
          "name": "stdout",
          "text": [
            "9\n",
            "[1, 2, 3, 32, 2, 2.23, 43.23, 'python', [2, 32, 3], [12, 2, 12, 2]]\n",
            "[1, 2, 3, 32, 2, 2.23, 'pandas', 43.23, 'python', [2, 32, 3], [12, 2, 12, 2]]\n",
            "[1, 2, 32, 2, 2.23, 'pandas', 43.23, 'python', [2, 32, 3], [12, 2, 12, 2]]\n",
            "2\n",
            "[1, 2, 2, 2.23, 'pandas', 43.23, 'python', [2, 32, 3], [12, 2, 12, 2]]\n",
            "None\n",
            "[[12, 2, 12, 2], [2, 32, 3], 'python', 43.23, 'pandas', 2.23, 2, 2, 1]\n",
            "[]\n"
          ]
        }
      ]
    },
    {
      "cell_type": "code",
      "source": [
        "#list sorting\n",
        "lst2=[1,2,4,2,4,2,4,2,5,6,7,4]\n",
        "lst3=sorted(lst2)\n",
        "print(lst3)"
      ],
      "metadata": {
        "colab": {
          "base_uri": "https://localhost:8080/"
        },
        "id": "VGrj2T2A4KNq",
        "outputId": "8135cc8b-e5a9-46f5-c4c3-a248bd971ff7"
      },
      "execution_count": null,
      "outputs": [
        {
          "output_type": "stream",
          "name": "stdout",
          "text": [
            "[1, 2, 2, 2, 2, 4, 4, 4, 4, 5, 6, 7]\n"
          ]
        }
      ]
    },
    {
      "cell_type": "code",
      "source": [
        "#list sorting\n",
        "lst2=[1,2,4,2,4,2,4,2,5,6,7,4]\n",
        "lst2.sort()\n",
        "print(lst2)"
      ],
      "metadata": {
        "colab": {
          "base_uri": "https://localhost:8080/"
        },
        "id": "Rqi4SwxV4KPy",
        "outputId": "086753ab-1f4c-4f9d-b944-a87b00d0718e"
      },
      "execution_count": null,
      "outputs": [
        {
          "output_type": "stream",
          "name": "stdout",
          "text": [
            "[1, 2, 2, 2, 2, 4, 4, 4, 4, 5, 6, 7]\n"
          ]
        }
      ]
    },
    {
      "cell_type": "code",
      "source": [
        "#unpacking sequences\n",
        "\n",
        "lst=[2.23,43.23,\"python\",[2,32,3]]\n",
        "a,b,c,d = lst\n",
        "print(a)\n",
        "print(b)\n",
        "print(c)\n",
        "print(d)"
      ],
      "metadata": {
        "colab": {
          "base_uri": "https://localhost:8080/"
        },
        "id": "qgS7qojQ4KUT",
        "outputId": "8858295b-1a25-4c59-97a6-4900440ce1c5"
      },
      "execution_count": null,
      "outputs": [
        {
          "output_type": "stream",
          "name": "stdout",
          "text": [
            "2.23\n",
            "43.23\n",
            "python\n",
            "[2, 32, 3]\n"
          ]
        }
      ]
    },
    {
      "cell_type": "code",
      "source": [
        ""
      ],
      "metadata": {
        "id": "0y8xjXmd4KXa"
      },
      "execution_count": null,
      "outputs": []
    },
    {
      "cell_type": "markdown",
      "source": [
        "# ***`Tuple`***"
      ],
      "metadata": {
        "id": "-MO9uuQqBlU7"
      }
    },
    {
      "cell_type": "code",
      "source": [
        "tp0=(1,2,3,32,2.23,43.23,\"python\",[2,32,3])\n",
        "print(tp0)\n",
        "tp1=()\n",
        "print(tp1)\n",
        "print(type(tp0))"
      ],
      "metadata": {
        "colab": {
          "base_uri": "https://localhost:8080/"
        },
        "id": "e9Uhawzx4KaK",
        "outputId": "9d45c63d-dd86-41f5-fa59-b8b50d608fbb"
      },
      "execution_count": null,
      "outputs": [
        {
          "output_type": "stream",
          "name": "stdout",
          "text": [
            "(1, 2, 3, 32, 2.23, 43.23, 'python', [2, 32, 3])\n",
            "()\n",
            "<class 'tuple'>\n"
          ]
        }
      ]
    },
    {
      "cell_type": "code",
      "source": [
        "array={1,3,5,7}\n",
        "print(array)\n",
        "tup=tuple(array)\n",
        "print(tup)\n",
        "print(type(tup))"
      ],
      "metadata": {
        "colab": {
          "base_uri": "https://localhost:8080/"
        },
        "id": "Zt01XPxU4KcS",
        "outputId": "f212dfcb-53c3-4455-f690-ccf116b79402"
      },
      "execution_count": null,
      "outputs": [
        {
          "output_type": "stream",
          "name": "stdout",
          "text": [
            "{1, 3, 5, 7}\n",
            "(1, 3, 5, 7)\n",
            "<class 'tuple'>\n"
          ]
        }
      ]
    },
    {
      "cell_type": "markdown",
      "source": [
        "# ***Iterating Tuple***"
      ],
      "metadata": {
        "id": "kmctZpRgELpU"
      }
    },
    {
      "cell_type": "code",
      "source": [
        "#iterating tuple\n",
        "\n",
        "tp0=(1,2,3,32,2.23,43.23,\"python\",[2,32,3])\n",
        "for i in tp0:\n",
        "    print(i,end=' ')\n",
        "print('')"
      ],
      "metadata": {
        "colab": {
          "base_uri": "https://localhost:8080/"
        },
        "id": "nvN2YphTDe1L",
        "outputId": "4795a431-5e84-44cc-effb-a588638db21a"
      },
      "execution_count": null,
      "outputs": [
        {
          "output_type": "stream",
          "name": "stdout",
          "text": [
            "1 2 3 32 2.23 43.23 python [2, 32, 3] \n"
          ]
        }
      ]
    },
    {
      "cell_type": "code",
      "source": [
        "tp0=(1,2,3,32,2.23,43.23,\"python\",[2,32,3])\n",
        "print(tp0[2])\n",
        "print(tp0[6])\n",
        "print(tp0[-2])\n",
        "print(tp0[7][2])"
      ],
      "metadata": {
        "colab": {
          "base_uri": "https://localhost:8080/"
        },
        "id": "rluCfTdIDe3b",
        "outputId": "e6db8fe5-7ee8-44d3-e4af-4a7ce552b35b"
      },
      "execution_count": null,
      "outputs": [
        {
          "output_type": "stream",
          "name": "stdout",
          "text": [
            "3\n",
            "python\n",
            "python\n",
            "3\n"
          ]
        }
      ]
    },
    {
      "cell_type": "code",
      "source": [
        "#inserting into tuple\n",
        "\n",
        "tp0 = (1,2,3,32,2.23,43.23,\"python\",[2,32,3])\n",
        "tp0 = tp0 + (\"pandas\",232,3,232,3)\n",
        "print(tp0)\n",
        "print(tp0.count(3))\n",
        "print(tp0.index([2, 32, 3]))"
      ],
      "metadata": {
        "colab": {
          "base_uri": "https://localhost:8080/"
        },
        "id": "-WhU_JenDe5t",
        "outputId": "4e2c500f-4b90-439d-c346-b2b6f0b1ec70"
      },
      "execution_count": null,
      "outputs": [
        {
          "output_type": "stream",
          "name": "stdout",
          "text": [
            "(1, 2, 3, 32, 2.23, 43.23, 'python', [2, 32, 3], 'pandas', 232, 3, 232, 3)\n",
            "3\n",
            "7\n"
          ]
        }
      ]
    },
    {
      "cell_type": "markdown",
      "source": [
        "# ***Dictionary***"
      ],
      "metadata": {
        "id": "N9_RIgiMFfJ1"
      }
    },
    {
      "cell_type": "code",
      "source": [
        "my_dict = {1: 'Python',\n",
        "           2: 'Java',\n",
        "           3: 'C++', \n",
        "           4: 'Swift'}\n",
        "print(my_dict)\n",
        "\n",
        "my_dict1 = {} \n",
        "print(my_dict1)"
      ],
      "metadata": {
        "id": "PzJRa4BXEkAj"
      },
      "execution_count": null,
      "outputs": []
    },
    {
      "cell_type": "code",
      "source": [
        "my_dict = {1: 'Python',\n",
        "           2: 'Java',\n",
        "           3: 'C++', \n",
        "           4: 'Swift'}\n",
        "print(my_dict)\n",
        "\n",
        "my_dict1 = {} \n",
        "print(my_dict1)"
      ],
      "metadata": {
        "id": "15UF0OjOEkCz",
        "colab": {
          "base_uri": "https://localhost:8080/"
        },
        "outputId": "3a6afed7-4d7d-4719-f611-574ae1eeb2d1"
      },
      "execution_count": 1,
      "outputs": [
        {
          "output_type": "stream",
          "name": "stdout",
          "text": [
            "{1: 'Python', 2: 'Java', 3: 'C++', 4: 'Swift'}\n",
            "{}\n"
          ]
        }
      ]
    },
    {
      "cell_type": "code",
      "source": [
        "hi = {1: 'helleo',\n",
        "      2: 'Nothing',\n",
        "      3: 'Happened',\n",
        "      4: 'Okkk',\n",
        "      5: 'JKJKJKJKJ'\n",
        "      }\n",
        "print(hi)"
      ],
      "metadata": {
        "id": "M8GYCRofEkFD",
        "colab": {
          "base_uri": "https://localhost:8080/"
        },
        "outputId": "2d2c736d-a39a-443f-8bc6-8ef80063e1e0"
      },
      "execution_count": 2,
      "outputs": [
        {
          "output_type": "stream",
          "name": "stdout",
          "text": [
            "{1: 'helleo', 2: 'Nothing', 3: 'Happened', 4: 'Okkk', 5: 'JKJKJKJKJ'}\n"
          ]
        }
      ]
    },
    {
      "cell_type": "code",
      "source": [
        "type(my_dict)"
      ],
      "metadata": {
        "id": "LYhOBRbJEkHL",
        "colab": {
          "base_uri": "https://localhost:8080/"
        },
        "outputId": "29f6c7c3-1298-4ca3-f83a-893800c8dcc8"
      },
      "execution_count": 3,
      "outputs": [
        {
          "output_type": "execute_result",
          "data": {
            "text/plain": [
              "dict"
            ]
          },
          "metadata": {},
          "execution_count": 3
        }
      ]
    },
    {
      "cell_type": "code",
      "source": [
        "my_dict[2] = 'JAVA' #changing element\n",
        "my_dict"
      ],
      "metadata": {
        "id": "OVPwZvHZ4Kgy",
        "colab": {
          "base_uri": "https://localhost:8080/"
        },
        "outputId": "b003edc6-c293-4a04-a798-85d12463cbee"
      },
      "execution_count": 4,
      "outputs": [
        {
          "output_type": "execute_result",
          "data": {
            "text/plain": [
              "{1: 'Python', 2: 'JAVA', 3: 'C++', 4: 'Swift'}"
            ]
          },
          "metadata": {},
          "execution_count": 4
        }
      ]
    },
    {
      "cell_type": "code",
      "source": [
        "my_dict[1] = 'Ruby' #adding key-value pair\n",
        "print(my_dict)"
      ],
      "metadata": {
        "colab": {
          "base_uri": "https://localhost:8080/"
        },
        "id": "cMgD2y0bTsrT",
        "outputId": "ad1a6ee8-760e-4f64-8577-9fce8bcf7535"
      },
      "execution_count": 5,
      "outputs": [
        {
          "output_type": "stream",
          "name": "stdout",
          "text": [
            "{1: 'Ruby', 2: 'JAVA', 3: 'C++', 4: 'Swift'}\n"
          ]
        }
      ]
    },
    {
      "cell_type": "code",
      "source": [
        "my_dict[4]"
      ],
      "metadata": {
        "colab": {
          "base_uri": "https://localhost:8080/",
          "height": 35
        },
        "id": "sbWds1CQTstr",
        "outputId": "af250295-1b77-4aed-b8b3-33a43a804404"
      },
      "execution_count": 6,
      "outputs": [
        {
          "output_type": "execute_result",
          "data": {
            "text/plain": [
              "'Swift'"
            ],
            "application/vnd.google.colaboratory.intrinsic+json": {
              "type": "string"
            }
          },
          "metadata": {},
          "execution_count": 6
        }
      ]
    },
    {
      "cell_type": "code",
      "source": [
        "my_dict.pop(4)\n",
        "my_dict"
      ],
      "metadata": {
        "colab": {
          "base_uri": "https://localhost:8080/"
        },
        "id": "jby5FE8_Tsv6",
        "outputId": "e89e98ba-9668-461d-e898-aac59be338f4"
      },
      "execution_count": 7,
      "outputs": [
        {
          "output_type": "execute_result",
          "data": {
            "text/plain": [
              "{1: 'Ruby', 2: 'JAVA', 3: 'C++'}"
            ]
          },
          "metadata": {},
          "execution_count": 7
        }
      ]
    },
    {
      "cell_type": "code",
      "source": [
        "my_dict.popitem()\n",
        "my_dict"
      ],
      "metadata": {
        "colab": {
          "base_uri": "https://localhost:8080/"
        },
        "id": "eCxNc7d9TsyC",
        "outputId": "643189df-3521-43b6-8fab-d04c0e500fb6"
      },
      "execution_count": 8,
      "outputs": [
        {
          "output_type": "execute_result",
          "data": {
            "text/plain": [
              "{1: 'Ruby', 2: 'JAVA'}"
            ]
          },
          "metadata": {},
          "execution_count": 8
        }
      ]
    },
    {
      "cell_type": "code",
      "source": [
        "my_dict.clear()\n",
        "my_dict"
      ],
      "metadata": {
        "colab": {
          "base_uri": "https://localhost:8080/"
        },
        "id": "PfhvjxjrTs0K",
        "outputId": "40006ddc-b414-4fbe-9a87-8c5e101a116c"
      },
      "execution_count": 10,
      "outputs": [
        {
          "output_type": "execute_result",
          "data": {
            "text/plain": [
              "{}"
            ]
          },
          "metadata": {},
          "execution_count": 10
        }
      ]
    },
    {
      "cell_type": "code",
      "source": [
        "my_dict = {1: 'Python', 2: 'Java', 3: 'Ruby'}\n",
        "print(my_dict.keys()) #get keys\n",
        "print(my_dict.values()) #get values\n",
        "print(my_dict.items()) #get key-value pairs\n",
        "print(my_dict.get(1))"
      ],
      "metadata": {
        "colab": {
          "base_uri": "https://localhost:8080/"
        },
        "id": "ubJtMNgsTs20",
        "outputId": "02e2511a-1a96-4f9d-81cf-5902a8a1e451"
      },
      "execution_count": 11,
      "outputs": [
        {
          "output_type": "stream",
          "name": "stdout",
          "text": [
            "dict_keys([1, 2, 3])\n",
            "dict_values(['Python', 'Java', 'Ruby'])\n",
            "dict_items([(1, 'Python'), (2, 'Java'), (3, 'Ruby')])\n",
            "Python\n"
          ]
        }
      ]
    },
    {
      "cell_type": "markdown",
      "source": [
        "# ***Set***"
      ],
      "metadata": {
        "id": "taUCclJpWigz"
      }
    },
    {
      "cell_type": "code",
      "source": [
        "my_set = {9, 1, 2, 3, 5, 5, 5,4}\n",
        "print(my_set)"
      ],
      "metadata": {
        "colab": {
          "base_uri": "https://localhost:8080/"
        },
        "id": "zIRNqhaxTs9q",
        "outputId": "7a3e2e67-b0f0-4ee6-e300-19e12bcc399b"
      },
      "execution_count": 12,
      "outputs": [
        {
          "output_type": "stream",
          "name": "stdout",
          "text": [
            "{1, 2, 3, 4, 5, 9}\n"
          ]
        }
      ]
    },
    {
      "cell_type": "code",
      "source": [
        "my_set = {9, 1, 2, 3, 5, 5, 5,4}\n",
        "print(my_set)"
      ],
      "metadata": {
        "colab": {
          "base_uri": "https://localhost:8080/"
        },
        "id": "AcPkaaSdTtAL",
        "outputId": "23ceea10-bba3-4bde-a406-0f77c89ca70b"
      },
      "execution_count": 13,
      "outputs": [
        {
          "output_type": "stream",
          "name": "stdout",
          "text": [
            "{1, 2, 3, 4, 5, 9}\n"
          ]
        }
      ]
    },
    {
      "cell_type": "code",
      "source": [
        "type(my_set)"
      ],
      "metadata": {
        "colab": {
          "base_uri": "https://localhost:8080/"
        },
        "id": "Jz28CtisTtC5",
        "outputId": "11273ec9-8969-4255-c036-4445cd680f23"
      },
      "execution_count": 14,
      "outputs": [
        {
          "output_type": "execute_result",
          "data": {
            "text/plain": [
              "set"
            ]
          },
          "metadata": {},
          "execution_count": 14
        }
      ]
    },
    {
      "cell_type": "code",
      "source": [
        "my_set.add(7)\n",
        "my_set"
      ],
      "metadata": {
        "colab": {
          "base_uri": "https://localhost:8080/"
        },
        "id": "6X1QeuhgTtHS",
        "outputId": "cae0e5ff-4b8e-4664-c22f-742003e5dd79"
      },
      "execution_count": 17,
      "outputs": [
        {
          "output_type": "execute_result",
          "data": {
            "text/plain": [
              "{1, 2, 3, 4, 5, 7, 9}"
            ]
          },
          "metadata": {},
          "execution_count": 17
        }
      ]
    },
    {
      "cell_type": "code",
      "source": [
        "my_set = {1, 2, 3, 4}\n",
        "my_set_2 = {3, 4, 5, 6}"
      ],
      "metadata": {
        "id": "JtSXi-t_XsKa"
      },
      "execution_count": 18,
      "outputs": []
    },
    {
      "cell_type": "code",
      "source": [
        "my_set.union(my_set_2)"
      ],
      "metadata": {
        "colab": {
          "base_uri": "https://localhost:8080/"
        },
        "id": "deiZHBSMXsMx",
        "outputId": "b679164f-cacf-4569-e514-af22eb15be19"
      },
      "execution_count": 19,
      "outputs": [
        {
          "output_type": "execute_result",
          "data": {
            "text/plain": [
              "{1, 2, 3, 4, 5, 6}"
            ]
          },
          "metadata": {},
          "execution_count": 19
        }
      ]
    },
    {
      "cell_type": "code",
      "source": [
        "my_set.intersection(my_set_2)"
      ],
      "metadata": {
        "colab": {
          "base_uri": "https://localhost:8080/"
        },
        "id": "z9FxkmjdXsOx",
        "outputId": "8a6af2c1-7ef5-448b-b471-f08155222ac6"
      },
      "execution_count": 20,
      "outputs": [
        {
          "output_type": "execute_result",
          "data": {
            "text/plain": [
              "{3, 4}"
            ]
          },
          "metadata": {},
          "execution_count": 20
        }
      ]
    },
    {
      "cell_type": "code",
      "source": [
        "my_set.difference(my_set_2)"
      ],
      "metadata": {
        "colab": {
          "base_uri": "https://localhost:8080/"
        },
        "id": "5hRP3nlAXsQp",
        "outputId": "05128a24-3f38-48f9-b61d-06f4718c9556"
      },
      "execution_count": 21,
      "outputs": [
        {
          "output_type": "execute_result",
          "data": {
            "text/plain": [
              "{1, 2}"
            ]
          },
          "metadata": {},
          "execution_count": 21
        }
      ]
    },
    {
      "cell_type": "code",
      "source": [
        "my_set.symmetric_difference(my_set_2)"
      ],
      "metadata": {
        "colab": {
          "base_uri": "https://localhost:8080/"
        },
        "id": "vuhjLwMaXsUJ",
        "outputId": "4fbf53f1-2665-4a8b-b1a3-5e2cf3054acf"
      },
      "execution_count": 22,
      "outputs": [
        {
          "output_type": "execute_result",
          "data": {
            "text/plain": [
              "{1, 2, 5, 6}"
            ]
          },
          "metadata": {},
          "execution_count": 22
        }
      ]
    },
    {
      "cell_type": "code",
      "source": [
        "my_set.clear()"
      ],
      "metadata": {
        "id": "2BbwRYO9XsWp"
      },
      "execution_count": 23,
      "outputs": []
    },
    {
      "cell_type": "code",
      "source": [
        "import copy\n",
        "\n",
        "li1 = [1, 2, [3,5], 4]  "
      ],
      "metadata": {
        "id": "jNRILK-iXsaZ"
      },
      "execution_count": 24,
      "outputs": []
    },
    {
      "cell_type": "code",
      "source": [
        "li2 = copy.deepcopy(li1) \n",
        "li2"
      ],
      "metadata": {
        "colab": {
          "base_uri": "https://localhost:8080/"
        },
        "id": "hBIGdPX1Xseq",
        "outputId": "72e35bb7-334d-4045-d841-a9fcdfd0f874"
      },
      "execution_count": 26,
      "outputs": [
        {
          "output_type": "execute_result",
          "data": {
            "text/plain": [
              "[1, 2, [3, 5], 4]"
            ]
          },
          "metadata": {},
          "execution_count": 26
        }
      ]
    },
    {
      "cell_type": "code",
      "source": [
        "li1"
      ],
      "metadata": {
        "colab": {
          "base_uri": "https://localhost:8080/"
        },
        "id": "6OxDaDgHXsg5",
        "outputId": "2cb93b47-452f-43a2-aeba-f9af94964186"
      },
      "execution_count": 27,
      "outputs": [
        {
          "output_type": "execute_result",
          "data": {
            "text/plain": [
              "[1, 2, [3, 5], 4]"
            ]
          },
          "metadata": {},
          "execution_count": 27
        }
      ]
    },
    {
      "cell_type": "code",
      "source": [
        "li2[2][0] = 'Z'\n",
        "li2"
      ],
      "metadata": {
        "colab": {
          "base_uri": "https://localhost:8080/"
        },
        "id": "DOlJBa4iXsjR",
        "outputId": "78cf9fe7-6e3e-4ee8-bbf8-e267948ead26"
      },
      "execution_count": 29,
      "outputs": [
        {
          "output_type": "execute_result",
          "data": {
            "text/plain": [
              "[1, 2, ['Z', 5], 4]"
            ]
          },
          "metadata": {},
          "execution_count": 29
        }
      ]
    },
    {
      "cell_type": "code",
      "source": [
        "li1"
      ],
      "metadata": {
        "colab": {
          "base_uri": "https://localhost:8080/"
        },
        "id": "3p4yUT3mXslc",
        "outputId": "4d195921-6c92-46fc-e81a-37787b715c1d"
      },
      "execution_count": 31,
      "outputs": [
        {
          "output_type": "execute_result",
          "data": {
            "text/plain": [
              "[1, 2, [3, 5], 4]"
            ]
          },
          "metadata": {},
          "execution_count": 31
        }
      ]
    },
    {
      "cell_type": "code",
      "source": [
        ""
      ],
      "metadata": {
        "id": "6jZMWBlrXsnp"
      },
      "execution_count": null,
      "outputs": []
    },
    {
      "cell_type": "code",
      "source": [
        ""
      ],
      "metadata": {
        "id": "hVT1tWdFXsp7"
      },
      "execution_count": null,
      "outputs": []
    },
    {
      "cell_type": "code",
      "source": [
        ""
      ],
      "metadata": {
        "id": "KnG-J22pXssh"
      },
      "execution_count": null,
      "outputs": []
    }
  ]
}