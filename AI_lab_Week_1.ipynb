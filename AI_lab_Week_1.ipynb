{
  "nbformat": 4,
  "nbformat_minor": 0,
  "metadata": {
    "colab": {
      "name": "AI lab Week 1",
      "provenance": [],
      "authorship_tag": "ABX9TyPIfCWeFWLEvPbMzhAZsSMk",
      "include_colab_link": true
    },
    "kernelspec": {
      "name": "python3",
      "display_name": "Python 3"
    },
    "language_info": {
      "name": "python"
    }
  },
  "cells": [
    {
      "cell_type": "markdown",
      "metadata": {
        "id": "view-in-github",
        "colab_type": "text"
      },
      "source": [
        "<a href=\"https://colab.research.google.com/github/MDYeaminIslam/Codeforces-Solutions-Python/blob/Master/AI_lab_Week_1.ipynb\" target=\"_parent\"><img src=\"https://colab.research.google.com/assets/colab-badge.svg\" alt=\"Open In Colab\"/></a>"
      ]
    },
    {
      "cell_type": "code",
      "execution_count": 1,
      "metadata": {
        "colab": {
          "base_uri": "https://localhost:8080/"
        },
        "id": "7-wrEawK6rUv",
        "outputId": "cba1a8f0-9bd3-4be3-d6cd-e5ecbfb145b9"
      },
      "outputs": [
        {
          "output_type": "stream",
          "name": "stdout",
          "text": [
            "Hello World\n"
          ]
        }
      ],
      "source": [
        "print(\"Hello World\")"
      ]
    },
    {
      "cell_type": "code",
      "source": [
        "print(\"This is Md.Yeamin Islam\")"
      ],
      "metadata": {
        "colab": {
          "base_uri": "https://localhost:8080/"
        },
        "id": "Hekg32b960pj",
        "outputId": "afb2f383-ce77-4246-b56a-7b45875ef419"
      },
      "execution_count": 2,
      "outputs": [
        {
          "output_type": "stream",
          "name": "stdout",
          "text": [
            "This is Md.Yeamin Islam\n"
          ]
        }
      ]
    },
    {
      "cell_type": "code",
      "source": [
        "x=7\n",
        "y=3\n",
        "print(x+y)"
      ],
      "metadata": {
        "colab": {
          "base_uri": "https://localhost:8080/"
        },
        "id": "Hmk19xMS7AWi",
        "outputId": "bdb3036d-3b91-4707-8222-c8df7e6c4817"
      },
      "execution_count": 8,
      "outputs": [
        {
          "output_type": "stream",
          "name": "stdout",
          "text": [
            "10\n"
          ]
        }
      ]
    },
    {
      "cell_type": "code",
      "source": [
        "total = x+y\n",
        "print(total)"
      ],
      "metadata": {
        "colab": {
          "base_uri": "https://localhost:8080/"
        },
        "id": "RLLSN12L7BwK",
        "outputId": "8356503b-33ca-4237-de50-b6ccc1ee5853"
      },
      "execution_count": 9,
      "outputs": [
        {
          "output_type": "stream",
          "name": "stdout",
          "text": [
            "10\n"
          ]
        }
      ]
    },
    {
      "cell_type": "code",
      "source": [
        "name = \"Adam\"\n",
        "name2 = \"Eva\"\n",
        "print(name , name2)"
      ],
      "metadata": {
        "colab": {
          "base_uri": "https://localhost:8080/"
        },
        "id": "1clZbtnF7P9a",
        "outputId": "77ef0818-c59f-4cf3-c91b-33d76ce9f3e3"
      },
      "execution_count": 10,
      "outputs": [
        {
          "output_type": "stream",
          "name": "stdout",
          "text": [
            "Adam Eva\n"
          ]
        }
      ]
    },
    {
      "cell_type": "code",
      "source": [
        "x = \"Thank\"\n",
        "y = \"You\"\n",
        "print(x+y)"
      ],
      "metadata": {
        "colab": {
          "base_uri": "https://localhost:8080/"
        },
        "id": "X9syZ8Da7Rhq",
        "outputId": "7129ae80-7123-46b0-a9c9-92ac89829d34"
      },
      "execution_count": 12,
      "outputs": [
        {
          "output_type": "stream",
          "name": "stdout",
          "text": [
            "ThankYou\n"
          ]
        }
      ]
    },
    {
      "cell_type": "code",
      "source": [
        "x =10.1\n",
        "type(x)"
      ],
      "metadata": {
        "colab": {
          "base_uri": "https://localhost:8080/"
        },
        "id": "NXc72LhS7bCq",
        "outputId": "f810be76-386a-4f12-e6cf-31c2ccb0a936"
      },
      "execution_count": 16,
      "outputs": [
        {
          "output_type": "execute_result",
          "data": {
            "text/plain": [
              "float"
            ]
          },
          "metadata": {},
          "execution_count": 16
        }
      ]
    },
    {
      "cell_type": "code",
      "source": [
        "type(name)"
      ],
      "metadata": {
        "colab": {
          "base_uri": "https://localhost:8080/"
        },
        "id": "b27vQfIC8Vy5",
        "outputId": "88886a32-b6de-4ff7-db56-b08b20a44b7e"
      },
      "execution_count": 17,
      "outputs": [
        {
          "output_type": "execute_result",
          "data": {
            "text/plain": [
              "str"
            ]
          },
          "metadata": {},
          "execution_count": 17
        }
      ]
    },
    {
      "cell_type": "code",
      "source": [
        " multiplication = 7*4\n",
        " print(multiplication)"
      ],
      "metadata": {
        "colab": {
          "base_uri": "https://localhost:8080/"
        },
        "id": "RymINjuW8Yaj",
        "outputId": "011dde19-cb40-4ce1-e406-af583c682b5d"
      },
      "execution_count": 18,
      "outputs": [
        {
          "output_type": "stream",
          "name": "stdout",
          "text": [
            "28\n"
          ]
        }
      ]
    },
    {
      "cell_type": "code",
      "source": [
        "Addition = 10+90\n",
        "print(Addition)"
      ],
      "metadata": {
        "colab": {
          "base_uri": "https://localhost:8080/"
        },
        "id": "B7nA83Rk8oFZ",
        "outputId": "4190e2e6-7a3f-4964-a6d8-3b446dc551db"
      },
      "execution_count": 20,
      "outputs": [
        {
          "output_type": "stream",
          "name": "stdout",
          "text": [
            "100\n"
          ]
        }
      ]
    },
    {
      "cell_type": "code",
      "source": [
        "sub = 40-8\n",
        "print(sub)"
      ],
      "metadata": {
        "colab": {
          "base_uri": "https://localhost:8080/"
        },
        "id": "0O92WerN8xOx",
        "outputId": "4ed6d04a-04ff-4e59-e4b4-342df5307519"
      },
      "execution_count": 21,
      "outputs": [
        {
          "output_type": "stream",
          "name": "stdout",
          "text": [
            "32\n"
          ]
        }
      ]
    },
    {
      "cell_type": "code",
      "source": [
        "Exponentiation = 2**10\n",
        "print(Exponentiation)"
      ],
      "metadata": {
        "colab": {
          "base_uri": "https://localhost:8080/"
        },
        "id": "hb5sI1dI81L5",
        "outputId": "ef6711cd-db03-4b5d-b8fe-30edc72b5cc6"
      },
      "execution_count": 22,
      "outputs": [
        {
          "output_type": "stream",
          "name": "stdout",
          "text": [
            "1024\n"
          ]
        }
      ]
    },
    {
      "cell_type": "code",
      "source": [
        "True_Division = 12/5\n",
        "print(True_Division)"
      ],
      "metadata": {
        "colab": {
          "base_uri": "https://localhost:8080/"
        },
        "id": "PV9p-YkC81TB",
        "outputId": "717fd56f-40cb-4fb6-f002-efc210919787"
      },
      "execution_count": 25,
      "outputs": [
        {
          "output_type": "stream",
          "name": "stdout",
          "text": [
            "2.4\n"
          ]
        }
      ]
    },
    {
      "cell_type": "code",
      "source": [
        "Floor_Division = 7//4\n",
        "print(Floor_Division)"
      ],
      "metadata": {
        "colab": {
          "base_uri": "https://localhost:8080/"
        },
        "id": "bmya_R_Q81dx",
        "outputId": "64baba97-b6dd-4722-aff3-461200c51bcd"
      },
      "execution_count": 28,
      "outputs": [
        {
          "output_type": "stream",
          "name": "stdout",
          "text": [
            "1\n"
          ]
        }
      ]
    },
    {
      "cell_type": "code",
      "source": [
        "remainder = 15%7\n",
        "print(remainder)"
      ],
      "metadata": {
        "colab": {
          "base_uri": "https://localhost:8080/"
        },
        "id": "unLNFFeG-5Tq",
        "outputId": "e17df64c-7915-467a-c7fd-8740795e342c"
      },
      "execution_count": 29,
      "outputs": [
        {
          "output_type": "stream",
          "name": "stdout",
          "text": [
            "1\n"
          ]
        }
      ]
    },
    {
      "cell_type": "code",
      "source": [
        "x = 105\n",
        "y = 100\n",
        "x>y"
      ],
      "metadata": {
        "colab": {
          "base_uri": "https://localhost:8080/"
        },
        "id": "OtfQFVZxAJ-D",
        "outputId": "623c4001-2189-4c79-9e40-9c869c4e6be3"
      },
      "execution_count": 31,
      "outputs": [
        {
          "output_type": "execute_result",
          "data": {
            "text/plain": [
              "True"
            ]
          },
          "metadata": {},
          "execution_count": 31
        }
      ]
    },
    {
      "cell_type": "code",
      "source": [
        "x<y"
      ],
      "metadata": {
        "colab": {
          "base_uri": "https://localhost:8080/"
        },
        "id": "bsfTMc4PAcIj",
        "outputId": "16b2744e-5897-4b25-9ba7-7a86e5cffdae"
      },
      "execution_count": 32,
      "outputs": [
        {
          "output_type": "execute_result",
          "data": {
            "text/plain": [
              "False"
            ]
          },
          "metadata": {},
          "execution_count": 32
        }
      ]
    },
    {
      "cell_type": "code",
      "source": [
        "x==y"
      ],
      "metadata": {
        "colab": {
          "base_uri": "https://localhost:8080/"
        },
        "id": "rGwoXdgFAfFD",
        "outputId": "15cd6563-ac7b-4db6-c1e1-ac575c4bee23"
      },
      "execution_count": 33,
      "outputs": [
        {
          "output_type": "execute_result",
          "data": {
            "text/plain": [
              "False"
            ]
          },
          "metadata": {},
          "execution_count": 33
        }
      ]
    },
    {
      "cell_type": "code",
      "source": [
        "x!=y"
      ],
      "metadata": {
        "colab": {
          "base_uri": "https://localhost:8080/"
        },
        "id": "TKr89FJXAj6T",
        "outputId": "25edfb3c-4178-466a-f485-c0e397482b15"
      },
      "execution_count": 34,
      "outputs": [
        {
          "output_type": "execute_result",
          "data": {
            "text/plain": [
              "True"
            ]
          },
          "metadata": {},
          "execution_count": 34
        }
      ]
    },
    {
      "cell_type": "code",
      "source": [
        "x<=y"
      ],
      "metadata": {
        "colab": {
          "base_uri": "https://localhost:8080/"
        },
        "id": "8C6nge7sAfHi",
        "outputId": "9f1204a9-b9ec-4106-82f9-21aa2770b5c8"
      },
      "execution_count": 35,
      "outputs": [
        {
          "output_type": "execute_result",
          "data": {
            "text/plain": [
              "False"
            ]
          },
          "metadata": {},
          "execution_count": 35
        }
      ]
    },
    {
      "cell_type": "code",
      "source": [
        "x = 3\n",
        "y = 10\n",
        "1<=x<=5\n"
      ],
      "metadata": {
        "colab": {
          "base_uri": "https://localhost:8080/"
        },
        "id": "_E0brv7lAfKD",
        "outputId": "8cdf94ec-db10-48d3-ba42-5490d54bef3c"
      },
      "execution_count": 38,
      "outputs": [
        {
          "output_type": "execute_result",
          "data": {
            "text/plain": [
              "True"
            ]
          },
          "metadata": {},
          "execution_count": 38
        }
      ]
    },
    {
      "cell_type": "code",
      "source": [
        "1 <= y <= 5"
      ],
      "metadata": {
        "colab": {
          "base_uri": "https://localhost:8080/"
        },
        "id": "BaxslaYMAfMk",
        "outputId": "25cd2b34-6b70-49ce-835d-46fe225e1574"
      },
      "execution_count": 39,
      "outputs": [
        {
          "output_type": "execute_result",
          "data": {
            "text/plain": [
              "False"
            ]
          },
          "metadata": {},
          "execution_count": 39
        }
      ]
    },
    {
      "cell_type": "code",
      "source": [
        "print('Welcome', 'to', 'Python!')"
      ],
      "metadata": {
        "colab": {
          "base_uri": "https://localhost:8080/"
        },
        "id": "Om_JYOcUAfO7",
        "outputId": "7148de66-6d9b-42cc-afbb-07c4728d73f3"
      },
      "execution_count": 40,
      "outputs": [
        {
          "output_type": "stream",
          "name": "stdout",
          "text": [
            "Welcome to Python!\n"
          ]
        }
      ]
    },
    {
      "cell_type": "code",
      "source": [
        "print('Welcome\\nto\\n\\nPython!')"
      ],
      "metadata": {
        "colab": {
          "base_uri": "https://localhost:8080/"
        },
        "id": "dIowfiItAfRr",
        "outputId": "d7eee20e-bd5e-4ccf-faad-2882d5cb1557"
      },
      "execution_count": 41,
      "outputs": [
        {
          "output_type": "stream",
          "name": "stdout",
          "text": [
            "Welcome\n",
            "to\n",
            "\n",
            "Python!\n"
          ]
        }
      ]
    },
    {
      "cell_type": "code",
      "source": [
        "print(\"Welcom\",\"To\",\"Python\",)\n"
      ],
      "metadata": {
        "colab": {
          "base_uri": "https://localhost:8080/"
        },
        "id": "_TlSQy9gAfT7",
        "outputId": "58fccc60-2a2d-4b23-d2d6-c6547546ede6"
      },
      "execution_count": 44,
      "outputs": [
        {
          "output_type": "stream",
          "name": "stdout",
          "text": [
            "Welcom To Python\n"
          ]
        }
      ]
    },
    {
      "cell_type": "code",
      "source": [
        "print('this is a longer string, so we \\\n",
        " split it over two lines')"
      ],
      "metadata": {
        "colab": {
          "base_uri": "https://localhost:8080/"
        },
        "id": "FgIS751JAgqb",
        "outputId": "40d71f69-656b-4c32-c04e-0cb61eb1f286"
      },
      "execution_count": 45,
      "outputs": [
        {
          "output_type": "stream",
          "name": "stdout",
          "text": [
            "this is a longer string, so we  split it over two lines\n"
          ]
        }
      ]
    },
    {
      "cell_type": "code",
      "source": [
        "print('Sum is', 7 + 3)"
      ],
      "metadata": {
        "colab": {
          "base_uri": "https://localhost:8080/"
        },
        "id": "oSfrcq7HAgsr",
        "outputId": "9bbaebef-7d5d-48ec-aa1d-6886d430664b"
      },
      "execution_count": 46,
      "outputs": [
        {
          "output_type": "stream",
          "name": "stdout",
          "text": [
            "Sum is 10\n"
          ]
        }
      ]
    },
    {
      "cell_type": "code",
      "source": [
        "print(\"Addition is\",100+90)"
      ],
      "metadata": {
        "colab": {
          "base_uri": "https://localhost:8080/"
        },
        "id": "i6CQHv_OGnAq",
        "outputId": "c4075164-6ddc-4ca0-cda6-218257769666"
      },
      "execution_count": 47,
      "outputs": [
        {
          "output_type": "stream",
          "name": "stdout",
          "text": [
            "Addition is 190\n"
          ]
        }
      ]
    },
    {
      "cell_type": "code",
      "source": [
        "print('int(5.2)', 'truncates 5.2 to', int(5.2))"
      ],
      "metadata": {
        "colab": {
          "base_uri": "https://localhost:8080/"
        },
        "id": "Pk8JNDeKGnDS",
        "outputId": "b7db9f8f-911d-4c43-944b-f87994b40104"
      },
      "execution_count": 48,
      "outputs": [
        {
          "output_type": "stream",
          "name": "stdout",
          "text": [
            "int(5.2) truncates 5.2 to 5\n"
          ]
        }
      ]
    },
    {
      "cell_type": "code",
      "source": [
        "print('int 56.5',\"truncates 56.6 to\",int(56.6))"
      ],
      "metadata": {
        "colab": {
          "base_uri": "https://localhost:8080/"
        },
        "id": "kegjAmoLGnFy",
        "outputId": "264ebd3f-faeb-42e2-c479-d3575e2eeab5"
      },
      "execution_count": 50,
      "outputs": [
        {
          "output_type": "stream",
          "name": "stdout",
          "text": [
            "int 56.5 truncates 56.6 to 56\n"
          ]
        }
      ]
    },
    {
      "cell_type": "code",
      "source": [
        "print('Display \\'hi\\' ina  quotes')"
      ],
      "metadata": {
        "colab": {
          "base_uri": "https://localhost:8080/"
        },
        "id": "jtRFqf7BGnIJ",
        "outputId": "3c245a7d-047e-4a09-c7d1-845fbae690ec"
      },
      "execution_count": 59,
      "outputs": [
        {
          "output_type": "stream",
          "name": "stdout",
          "text": [
            "Display 'hi' ina  quotes\n"
          ]
        }
      ]
    },
    {
      "cell_type": "code",
      "source": [
        "print(\"This is called \\\"Banana\\\" darling and this is very \\\"tasty\\\"\")"
      ],
      "metadata": {
        "colab": {
          "base_uri": "https://localhost:8080/"
        },
        "id": "Hv3iRV63GnK5",
        "outputId": "ecf2bdb9-a02e-4595-c45d-ce442df5f063"
      },
      "execution_count": 55,
      "outputs": [
        {
          "output_type": "stream",
          "name": "stdout",
          "text": [
            "This is called \"Banana\" darling and this is very \"tasty\"\n"
          ]
        }
      ]
    },
    {
      "cell_type": "code",
      "source": [
        "triple_quoted_string = \"\"\"This is a triple-quoted\n",
        "string that spans two lines\"\"\"\n",
        "print(triple_quoted_string)"
      ],
      "metadata": {
        "colab": {
          "base_uri": "https://localhost:8080/"
        },
        "id": "X_eMJ4pFGnM9",
        "outputId": "9dc2ca9c-a835-4b2a-8ecb-7b058994ebbb"
      },
      "execution_count": 61,
      "outputs": [
        {
          "output_type": "stream",
          "name": "stdout",
          "text": [
            "This is a triple-quoted\n",
            "string that spans two lines\n"
          ]
        }
      ]
    },
    {
      "cell_type": "code",
      "source": [
        ""
      ],
      "metadata": {
        "id": "rGYHPjQkAgvL"
      },
      "execution_count": null,
      "outputs": []
    },
    {
      "cell_type": "code",
      "source": [
        ""
      ],
      "metadata": {
        "id": "sIFjcONLAgz-"
      },
      "execution_count": null,
      "outputs": []
    }
  ]
}