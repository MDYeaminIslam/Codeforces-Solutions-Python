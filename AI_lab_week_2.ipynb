{
  "nbformat": 4,
  "nbformat_minor": 0,
  "metadata": {
    "colab": {
      "name": "AI lab week 2",
      "provenance": [],
      "authorship_tag": "ABX9TyP4F/+DoR+Q6BRCItO1qp/2",
      "include_colab_link": true
    },
    "kernelspec": {
      "name": "python3",
      "display_name": "Python 3"
    },
    "language_info": {
      "name": "python"
    }
  },
  "cells": [
    {
      "cell_type": "markdown",
      "metadata": {
        "id": "view-in-github",
        "colab_type": "text"
      },
      "source": [
        "<a href=\"https://colab.research.google.com/github/MDYeaminIslam/Codeforces-Solutions-Python/blob/Master/AI_lab_week_2.ipynb\" target=\"_parent\"><img src=\"https://colab.research.google.com/assets/colab-badge.svg\" alt=\"Open In Colab\"/></a>"
      ]
    },
    {
      "cell_type": "markdown",
      "source": [
        "*IF statement*"
      ],
      "metadata": {
        "id": "ss-vdhAI4y2K"
      }
    },
    {
      "cell_type": "code",
      "source": [
        "grade =85\n",
        "if grade>=60:\n",
        "  print(\"passed\")\n",
        "else:\n",
        "  print(\"fail\")"
      ],
      "metadata": {
        "colab": {
          "base_uri": "https://localhost:8080/"
        },
        "id": "0Qv-coZn4mnL",
        "outputId": "f45255d4-407f-4ad6-9266-6df95eafe44c"
      },
      "execution_count": null,
      "outputs": [
        {
          "output_type": "stream",
          "name": "stdout",
          "text": [
            "passed\n"
          ]
        }
      ]
    },
    {
      "cell_type": "code",
      "source": [
        "grade=90\n",
        "if grade>=90:\n",
        "  print(\"A+\")\n",
        "else:\n",
        "  print(\"Pass\")"
      ],
      "metadata": {
        "colab": {
          "base_uri": "https://localhost:8080/"
        },
        "id": "33z2R0eM48TC",
        "outputId": "d558e869-5469-442b-f1ff-00a16026211d"
      },
      "execution_count": null,
      "outputs": [
        {
          "output_type": "stream",
          "name": "stdout",
          "text": [
            "A+\n"
          ]
        }
      ]
    },
    {
      "cell_type": "markdown",
      "source": [
        "***Conditional*** expression\n"
      ],
      "metadata": {
        "id": "79kWSadZ93Q2"
      }
    },
    {
      "cell_type": "code",
      "source": [
        "grade = 80\n",
        "result = ('Passed' if grade >= 60 else 'Failed')\n",
        "print(result)"
      ],
      "metadata": {
        "id": "FklQXlCW48X6",
        "colab": {
          "base_uri": "https://localhost:8080/"
        },
        "outputId": "07cae410-999a-48bd-a43e-021c3ae634c3"
      },
      "execution_count": 2,
      "outputs": [
        {
          "output_type": "stream",
          "name": "stdout",
          "text": [
            "Passed\n"
          ]
        }
      ]
    },
    {
      "cell_type": "markdown",
      "source": [
        "# **IF...elif....else statement**\n"
      ],
      "metadata": {
        "id": "bxIojVWTpLMJ"
      }
    },
    {
      "cell_type": "code",
      "source": [
        "grade = 77\n",
        "\n",
        "if grade >= 90:\n",
        "    print('A')\n",
        "elif grade >= 80:\n",
        "    print('B')\n",
        "elif grade >= 70:\n",
        "    print('C')\n",
        "elif grade >= 60:\n",
        "    print('D')\n",
        "else:\n",
        "    print('F')"
      ],
      "metadata": {
        "id": "kBtcWArL48b6"
      },
      "execution_count": null,
      "outputs": []
    },
    {
      "cell_type": "code",
      "source": [
        "grade = 100\n",
        "if grade<=78:\n",
        "  print(\"A\")\n",
        "elif grade<90:\n",
        "  print(\"A+\")\n",
        "elif grade>=100:\n",
        "  print(\"A++\")\n",
        "else:\n",
        "  print(\"Fail\")"
      ],
      "metadata": {
        "id": "8mcu_9jq48d6",
        "colab": {
          "base_uri": "https://localhost:8080/"
        },
        "outputId": "39e2a818-5213-4a69-f7a7-7382100afa31"
      },
      "execution_count": 4,
      "outputs": [
        {
          "output_type": "stream",
          "name": "stdout",
          "text": [
            "A++\n"
          ]
        }
      ]
    },
    {
      "cell_type": "code",
      "source": [
        ""
      ],
      "metadata": {
        "id": "MTjV5ZmC48gS"
      },
      "execution_count": null,
      "outputs": []
    },
    {
      "cell_type": "markdown",
      "source": [
        "While Statement"
      ],
      "metadata": {
        "id": "v4vhGpCvqxPg"
      }
    },
    {
      "cell_type": "code",
      "source": [
        "number = 1\n",
        "\n",
        "while (number<10):\n",
        "  print(number, end=\" \") #print in same line with space using end =\" \"\n",
        "  number+=1"
      ],
      "metadata": {
        "id": "x2c-68hn48iy",
        "colab": {
          "base_uri": "https://localhost:8080/"
        },
        "outputId": "d378c1dd-76ac-411c-8827-f814651a696e"
      },
      "execution_count": 5,
      "outputs": [
        {
          "output_type": "stream",
          "name": "stdout",
          "text": [
            "1 2 3 4 5 6 7 8 9 "
          ]
        }
      ]
    },
    {
      "cell_type": "code",
      "source": [
        "num =2\n",
        "while(num<16):\n",
        "  print(num,end=\" \")\n",
        "  num+=2\n"
      ],
      "metadata": {
        "id": "krHVaSSy48lK",
        "colab": {
          "base_uri": "https://localhost:8080/"
        },
        "outputId": "91ffa9c8-b567-4ef6-c485-af989d0f526b"
      },
      "execution_count": 8,
      "outputs": [
        {
          "output_type": "stream",
          "name": "stdout",
          "text": [
            "2 4 6 8 10 12 14 "
          ]
        }
      ]
    },
    {
      "cell_type": "code",
      "source": [
        "product = 3\n",
        "\n",
        "while product<=50:\n",
        "  product = product*3\n",
        "  print(product)"
      ],
      "metadata": {
        "id": "tN5CW9St48nK",
        "colab": {
          "base_uri": "https://localhost:8080/"
        },
        "outputId": "816b8cee-2799-4657-9a1f-753a8598b28c"
      },
      "execution_count": 10,
      "outputs": [
        {
          "output_type": "stream",
          "name": "stdout",
          "text": [
            "9\n",
            "27\n",
            "81\n"
          ]
        }
      ]
    },
    {
      "cell_type": "markdown",
      "source": [
        "For Loop Statement"
      ],
      "metadata": {
        "id": "zwMEzjKusXrh"
      }
    },
    {
      "cell_type": "code",
      "source": [
        "for character in \"programming\":\n",
        "  print(character, end=\" \")"
      ],
      "metadata": {
        "colab": {
          "base_uri": "https://localhost:8080/"
        },
        "id": "YHufYqm5rUXo",
        "outputId": "4454c26c-ce8a-4026-8e84-2dbf018d5f04"
      },
      "execution_count": 11,
      "outputs": [
        {
          "output_type": "stream",
          "name": "stdout",
          "text": [
            "p r o g r a m m i n g "
          ]
        }
      ]
    },
    {
      "cell_type": "code",
      "source": [
        "for counter in range(10):\n",
        "  print(counter, end=\" \")"
      ],
      "metadata": {
        "colab": {
          "base_uri": "https://localhost:8080/"
        },
        "id": "p09JM17NrUZp",
        "outputId": "6a4a0884-8903-4714-e814-e0dcc5c1a328"
      },
      "execution_count": 12,
      "outputs": [
        {
          "output_type": "stream",
          "name": "stdout",
          "text": [
            "0 1 2 3 4 5 6 7 8 9 "
          ]
        }
      ]
    },
    {
      "cell_type": "code",
      "source": [
        "total = 0\n",
        "for number in range(1000001):\n",
        "  total = total+number\n",
        "\n",
        "print(total)"
      ],
      "metadata": {
        "colab": {
          "base_uri": "https://localhost:8080/"
        },
        "id": "mpInj2u9rUcI",
        "outputId": "9dac3198-b1a2-4f25-c475-afeaf7f9886c"
      },
      "execution_count": 13,
      "outputs": [
        {
          "output_type": "stream",
          "name": "stdout",
          "text": [
            "500000500000\n"
          ]
        }
      ]
    },
    {
      "cell_type": "code",
      "source": [
        "for number in range(5,10):\n",
        "  print(number, end=\" \")"
      ],
      "metadata": {
        "colab": {
          "base_uri": "https://localhost:8080/"
        },
        "id": "OC4qJLlFrUeZ",
        "outputId": "e3fd7f55-0da0-491b-8823-12287bc340b1"
      },
      "execution_count": 14,
      "outputs": [
        {
          "output_type": "stream",
          "name": "stdout",
          "text": [
            "5 6 7 8 9 "
          ]
        }
      ]
    },
    {
      "cell_type": "code",
      "source": [
        "for number in range(0,10,2):\n",
        "  print(number, end=\" \")"
      ],
      "metadata": {
        "colab": {
          "base_uri": "https://localhost:8080/"
        },
        "id": "NtN_rhndrUhA",
        "outputId": "7ae3fbd4-1d08-48b9-a71f-d589be871b02"
      },
      "execution_count": 15,
      "outputs": [
        {
          "output_type": "stream",
          "name": "stdout",
          "text": [
            "0 2 4 6 8 "
          ]
        }
      ]
    },
    {
      "cell_type": "code",
      "source": [
        "for number in range(10,0,-2):\n",
        "  print(number, end=\" \")"
      ],
      "metadata": {
        "colab": {
          "base_uri": "https://localhost:8080/"
        },
        "id": "42TiSUJBrUjT",
        "outputId": "8f8632cc-5ea6-4c43-c6a5-e713b4429ad8"
      },
      "execution_count": 16,
      "outputs": [
        {
          "output_type": "stream",
          "name": "stdout",
          "text": [
            "10 8 6 4 2 "
          ]
        }
      ]
    },
    {
      "cell_type": "markdown",
      "source": [
        "*Number table print using range function*\n",
        "\n",
        "\n",
        "---\n",
        "\n",
        "\n",
        "\n",
        "---\n",
        "\n",
        "\n",
        "\n",
        "Take an input from user and print the number table"
      ],
      "metadata": {
        "id": "pU_VX0yzvQTQ"
      }
    },
    {
      "cell_type": "code",
      "source": [
        "number =  int(input())\n",
        "for i in range(1,11):\n",
        "  print(number,\"X\",i,\"=\",number*i)"
      ],
      "metadata": {
        "id": "UJ0G94J148rr",
        "colab": {
          "base_uri": "https://localhost:8080/"
        },
        "outputId": "fe0f51c2-2bab-46cf-f0a7-9bf83074973a"
      },
      "execution_count": 17,
      "outputs": [
        {
          "output_type": "stream",
          "name": "stdout",
          "text": [
            "5\n",
            "5 X 1 = 5\n",
            "5 X 2 = 10\n",
            "5 X 3 = 15\n",
            "5 X 4 = 20\n",
            "5 X 5 = 25\n",
            "5 X 6 = 30\n",
            "5 X 7 = 35\n",
            "5 X 8 = 40\n",
            "5 X 9 = 45\n",
            "5 X 10 = 50\n"
          ]
        }
      ]
    },
    {
      "cell_type": "code",
      "source": [
        "num = int(input())\n",
        "for i in range(1,11):\n",
        "  print(num,\"X\",i,\"=\",num*i)"
      ],
      "metadata": {
        "id": "8gbbzvid48uE",
        "colab": {
          "base_uri": "https://localhost:8080/"
        },
        "outputId": "50e275fb-4f48-4888-d942-c06c674709ab"
      },
      "execution_count": 18,
      "outputs": [
        {
          "output_type": "stream",
          "name": "stdout",
          "text": [
            "7\n",
            "7 X 1 = 7\n",
            "7 X 2 = 14\n",
            "7 X 3 = 21\n",
            "7 X 4 = 28\n",
            "7 X 5 = 35\n",
            "7 X 6 = 42\n",
            "7 X 7 = 49\n",
            "7 X 8 = 56\n",
            "7 X 9 = 63\n",
            "7 X 10 = 70\n"
          ]
        }
      ]
    },
    {
      "cell_type": "markdown",
      "source": [
        "*Nested For Loop*\n",
        "\n",
        "\n",
        "---\n",
        "\n"
      ],
      "metadata": {
        "id": "CrQPAj7Mvvrg"
      }
    },
    {
      "cell_type": "code",
      "source": [
        "for left in range(7):\n",
        "    for right in range(left,7):\n",
        "        print(\"[\"+str(left)+\"|\"+str(right)+\"]\", end =\" \")\n",
        "    print()"
      ],
      "metadata": {
        "colab": {
          "base_uri": "https://localhost:8080/"
        },
        "id": "weKUG1XivykH",
        "outputId": "19e9599b-4e84-4400-d0d1-9d7382292734"
      },
      "execution_count": 19,
      "outputs": [
        {
          "output_type": "stream",
          "name": "stdout",
          "text": [
            "[0|0] [0|1] [0|2] [0|3] [0|4] [0|5] [0|6] \n",
            "[1|1] [1|2] [1|3] [1|4] [1|5] [1|6] \n",
            "[2|2] [2|3] [2|4] [2|5] [2|6] \n",
            "[3|3] [3|4] [3|5] [3|6] \n",
            "[4|4] [4|5] [4|6] \n",
            "[5|5] [5|6] \n",
            "[6|6] \n"
          ]
        }
      ]
    },
    {
      "cell_type": "markdown",
      "source": [
        "Break Statement"
      ],
      "metadata": {
        "id": "XC54IUSzxoFx"
      }
    },
    {
      "cell_type": "code",
      "source": [
        "for number in range(10):\n",
        "  if  number==5:\n",
        "    break\n",
        "  print(number, end=\" \")"
      ],
      "metadata": {
        "colab": {
          "base_uri": "https://localhost:8080/"
        },
        "id": "N6x1chi5vymP",
        "outputId": "09297e4e-4ffc-4523-d015-ebf85a41f496"
      },
      "execution_count": 20,
      "outputs": [
        {
          "output_type": "stream",
          "name": "stdout",
          "text": [
            "0 1 2 3 4 "
          ]
        }
      ]
    },
    {
      "cell_type": "markdown",
      "source": [
        "Continue Statement"
      ],
      "metadata": {
        "id": "fSo07CMfxqzn"
      }
    },
    {
      "cell_type": "code",
      "source": [
        "for number in range(10):\n",
        "  if  number==5:\n",
        "    continue\n",
        "  print(number, end=\" \")"
      ],
      "metadata": {
        "colab": {
          "base_uri": "https://localhost:8080/"
        },
        "id": "4QzyIvhfvyq3",
        "outputId": "fed68d1e-1c18-461d-d3ed-8648d6d03eff"
      },
      "execution_count": 21,
      "outputs": [
        {
          "output_type": "stream",
          "name": "stdout",
          "text": [
            "0 1 2 3 4 6 7 8 9 "
          ]
        }
      ]
    },
    {
      "cell_type": "code",
      "source": [
        ""
      ],
      "metadata": {
        "id": "M7UjyWvIvytH"
      },
      "execution_count": null,
      "outputs": []
    },
    {
      "cell_type": "markdown",
      "source": [
        "***____Functions____***\n"
      ],
      "metadata": {
        "id": "7lgzccoVy2_z"
      }
    },
    {
      "cell_type": "code",
      "source": [
        "#built-in function\n",
        "\n",
        "print(\"Hi, I am semi-colon. Do you miss me?\")\n",
        "print(\"Let me know if you miss me or not. \")\n",
        "s=input()\n",
        "\n",
        "a=10\n",
        "b=21\n",
        "print(max(a,b))\n",
        "print(min(a,b))\n",
        "\n",
        "c=10.4\n",
        "d=int(c)\n",
        "print(d)\n",
        "\n",
        "e=\"python\"\n",
        "print(type(e))"
      ],
      "metadata": {
        "colab": {
          "base_uri": "https://localhost:8080/"
        },
        "id": "3gRn4BH_vyvP",
        "outputId": "d169c6ad-1195-4dc9-bb96-589db681c8bf"
      },
      "execution_count": 22,
      "outputs": [
        {
          "output_type": "stream",
          "name": "stdout",
          "text": [
            "Hi, I am semi-colon. Do you miss me?\n",
            "Let me know if you miss me or not. \n",
            "9\n",
            "21\n",
            "10\n",
            "10\n",
            "<class 'str'>\n"
          ]
        }
      ]
    },
    {
      "cell_type": "code",
      "source": [
        "#user defined function\n",
        "\n",
        "def add(a, b):\n",
        "    c=a+b\n",
        "    return c\n",
        "\n",
        "a=int(input(\"Enter a number: \"))\n",
        "b=int(input(\"Enter a number: \"))\n",
        "d=add(a,b)\n",
        "print(\"The sum is\", d)"
      ],
      "metadata": {
        "colab": {
          "base_uri": "https://localhost:8080/"
        },
        "id": "nPA_z0aJvyxP",
        "outputId": "f28571ac-8f10-467e-9c35-f2d05b13e08d"
      },
      "execution_count": 23,
      "outputs": [
        {
          "output_type": "stream",
          "name": "stdout",
          "text": [
            "Enter a number: 5\n",
            "Enter a number: 6\n",
            "The sum is 11\n"
          ]
        }
      ]
    },
    {
      "cell_type": "code",
      "source": [
        "def add(num1,num2):\n",
        "  return num1+num2\n",
        "\n",
        "\n",
        "\n",
        "num1 = int(input(\"Enter first number: \"))\n",
        "num2 = int(input(\"Enter Second number: \"))\n",
        "value = add(num1,num2)\n",
        "print(value)"
      ],
      "metadata": {
        "colab": {
          "base_uri": "https://localhost:8080/"
        },
        "id": "-FLgtUPKvyzg",
        "outputId": "cb7980e6-3f2b-45c2-ae8c-7a8a0fa5f058"
      },
      "execution_count": 24,
      "outputs": [
        {
          "output_type": "stream",
          "name": "stdout",
          "text": [
            "Enter first number: 10\n",
            "Enter Second number: 10\n",
            "20\n"
          ]
        }
      ]
    },
    {
      "cell_type": "code",
      "source": [
        "#function with multiple parameters\n",
        "\n",
        "def divisor(x,y,m):\n",
        "    if x%m==0 and y%m==0:\n",
        "        print(\"%d & %d are divisible by %d\"%(x,y,m))\n",
        "    elif x%m==0:\n",
        "        print(\"only %d is divisible by %d\"%(x,m))\n",
        "    elif y%m==0:\n",
        "        print(\"only %d is divisible by %d\"%(y,m))\n",
        "    else:\n",
        "        print(\"none of %d & %d is divisible by %d\"%(x,y,d))\n",
        "\n",
        "divisor(10,20,5)\n",
        "divisor(12,20,5)\n",
        "divisor(10,22,5)\n",
        "divisor(2,5,3)"
      ],
      "metadata": {
        "colab": {
          "base_uri": "https://localhost:8080/"
        },
        "id": "Yv5YvyBXvy14",
        "outputId": "c1b48780-79a1-4b83-d58c-b016bc2b7879"
      },
      "execution_count": 25,
      "outputs": [
        {
          "output_type": "stream",
          "name": "stdout",
          "text": [
            "10 & 20 are divisible by 5\n",
            "only 20 is divisible by 5\n",
            "only 10 is divisible by 5\n",
            "none of 2 & 5 is divisible by 11\n"
          ]
        }
      ]
    },
    {
      "cell_type": "code",
      "source": [
        "#function without parameter\n",
        "\n",
        "def summation():\n",
        "    a=3+8\n",
        "    return a\n",
        "\n",
        "b=summation()\n",
        "print(b)"
      ],
      "metadata": {
        "colab": {
          "base_uri": "https://localhost:8080/"
        },
        "id": "QpPKVc5Hvy4I",
        "outputId": "641b0eee-9b40-4a38-eeeb-4f82a38bea43"
      },
      "execution_count": 26,
      "outputs": [
        {
          "output_type": "stream",
          "name": "stdout",
          "text": [
            "11\n"
          ]
        }
      ]
    },
    {
      "cell_type": "code",
      "source": [
        "#function with default parameter value\n",
        "\n",
        "def check(a=0):\n",
        "    if a==0:\n",
        "        print(\"Zero\")\n",
        "    elif a>0:\n",
        "        print(\"Positive\")\n",
        "    else:\n",
        "        print(\"Negative\")\n",
        "\n",
        "check()     #without parameter\n",
        "check(-4)   #with parameter"
      ],
      "metadata": {
        "colab": {
          "base_uri": "https://localhost:8080/"
        },
        "id": "3dE_koTXvy6Y",
        "outputId": "3fed4cca-7239-4cb1-b546-d6edc59b07d6"
      },
      "execution_count": 27,
      "outputs": [
        {
          "output_type": "stream",
          "name": "stdout",
          "text": [
            "Zero\n",
            "Negative\n"
          ]
        }
      ]
    },
    {
      "cell_type": "code",
      "source": [
        "#local scope\n",
        "\n",
        "def local_scope():\n",
        "    x=7\n",
        "    print(x)\n",
        "\n",
        "local_scope()\n"
      ],
      "metadata": {
        "colab": {
          "base_uri": "https://localhost:8080/"
        },
        "id": "FhyT6HGN0PGR",
        "outputId": "f9e7c691-7837-4704-b3bb-6e7775224f46"
      },
      "execution_count": 29,
      "outputs": [
        {
          "output_type": "stream",
          "name": "stdout",
          "text": [
            "7\n"
          ]
        }
      ]
    },
    {
      "cell_type": "code",
      "source": [
        "#global scope\n",
        "\n",
        "x=10\n",
        "\n",
        "def global_scope():\n",
        "    print(x)\n",
        "\n",
        "print(x)\n",
        "global_scope()"
      ],
      "metadata": {
        "colab": {
          "base_uri": "https://localhost:8080/"
        },
        "id": "a3mmgSnZ0PIp",
        "outputId": "ff79580e-ba23-461a-a680-0f7eb90fd20d"
      },
      "execution_count": 30,
      "outputs": [
        {
          "output_type": "stream",
          "name": "stdout",
          "text": [
            "10\n",
            "10\n"
          ]
        }
      ]
    },
    {
      "cell_type": "code",
      "source": [
        "#python standard library\n",
        "#csv module\n",
        "\n",
        "import csv\n",
        "\n",
        "with open('test.csv', newline='') as csvfile:\n",
        "    tmp = csv.reader(csvfile, delimiter=' ', quotechar='|')\n",
        "    for row in tmp:\n",
        "        print(', '.join(row))"
      ],
      "metadata": {
        "colab": {
          "base_uri": "https://localhost:8080/",
          "height": 235
        },
        "id": "QCNyjdAj0PKx",
        "outputId": "88424452-0d7d-4acc-fba6-496833d1f42e"
      },
      "execution_count": 31,
      "outputs": [
        {
          "output_type": "error",
          "ename": "FileNotFoundError",
          "evalue": "ignored",
          "traceback": [
            "\u001b[0;31m---------------------------------------------------------------------------\u001b[0m",
            "\u001b[0;31mFileNotFoundError\u001b[0m                         Traceback (most recent call last)",
            "\u001b[0;32m<ipython-input-31-123527713610>\u001b[0m in \u001b[0;36m<module>\u001b[0;34m()\u001b[0m\n\u001b[1;32m      4\u001b[0m \u001b[0;32mimport\u001b[0m \u001b[0mcsv\u001b[0m\u001b[0;34m\u001b[0m\u001b[0;34m\u001b[0m\u001b[0m\n\u001b[1;32m      5\u001b[0m \u001b[0;34m\u001b[0m\u001b[0m\n\u001b[0;32m----> 6\u001b[0;31m \u001b[0;32mwith\u001b[0m \u001b[0mopen\u001b[0m\u001b[0;34m(\u001b[0m\u001b[0;34m'test.csv'\u001b[0m\u001b[0;34m,\u001b[0m \u001b[0mnewline\u001b[0m\u001b[0;34m=\u001b[0m\u001b[0;34m''\u001b[0m\u001b[0;34m)\u001b[0m \u001b[0;32mas\u001b[0m \u001b[0mcsvfile\u001b[0m\u001b[0;34m:\u001b[0m\u001b[0;34m\u001b[0m\u001b[0;34m\u001b[0m\u001b[0m\n\u001b[0m\u001b[1;32m      7\u001b[0m     \u001b[0mtmp\u001b[0m \u001b[0;34m=\u001b[0m \u001b[0mcsv\u001b[0m\u001b[0;34m.\u001b[0m\u001b[0mreader\u001b[0m\u001b[0;34m(\u001b[0m\u001b[0mcsvfile\u001b[0m\u001b[0;34m,\u001b[0m \u001b[0mdelimiter\u001b[0m\u001b[0;34m=\u001b[0m\u001b[0;34m' '\u001b[0m\u001b[0;34m,\u001b[0m \u001b[0mquotechar\u001b[0m\u001b[0;34m=\u001b[0m\u001b[0;34m'|'\u001b[0m\u001b[0;34m)\u001b[0m\u001b[0;34m\u001b[0m\u001b[0;34m\u001b[0m\u001b[0m\n\u001b[1;32m      8\u001b[0m     \u001b[0;32mfor\u001b[0m \u001b[0mrow\u001b[0m \u001b[0;32min\u001b[0m \u001b[0mtmp\u001b[0m\u001b[0;34m:\u001b[0m\u001b[0;34m\u001b[0m\u001b[0;34m\u001b[0m\u001b[0m\n",
            "\u001b[0;31mFileNotFoundError\u001b[0m: [Errno 2] No such file or directory: 'test.csv'"
          ]
        }
      ]
    },
    {
      "cell_type": "code",
      "source": [
        "#python standard library\n",
        "#math module\n",
        "\n",
        "import math\n",
        "\n",
        "print(math.pi)          #value of pi\n",
        "\n",
        "x=9.2\n",
        "print(math.ceil(x))     #round to the smallest integer not less than x\n",
        "print(math.floor(x))    #rount to the largest integer not greater than x\n",
        "\n",
        "print(math.sin(78))     #trigonometric sine of x (x in radians)\n",
        "\n",
        "print(math.pow(2,3))    #2 to the power 3\n",
        "\n",
        "print(math.sqrt(16))    #square root of 16"
      ],
      "metadata": {
        "colab": {
          "base_uri": "https://localhost:8080/"
        },
        "id": "qGknISCb0PMy",
        "outputId": "4aa32c82-0be3-4782-dd3a-61211565508a"
      },
      "execution_count": 32,
      "outputs": [
        {
          "output_type": "stream",
          "name": "stdout",
          "text": [
            "3.141592653589793\n",
            "10\n",
            "9\n",
            "0.5139784559875352\n",
            "8.0\n",
            "4.0\n"
          ]
        }
      ]
    },
    {
      "cell_type": "code",
      "source": [
        ""
      ],
      "metadata": {
        "id": "0DH0z-hL0PPJ"
      },
      "execution_count": null,
      "outputs": []
    },
    {
      "cell_type": "code",
      "source": [
        ""
      ],
      "metadata": {
        "id": "SF_IDoyz0PRR"
      },
      "execution_count": null,
      "outputs": []
    }
  ]
}